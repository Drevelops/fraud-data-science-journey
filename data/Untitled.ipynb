{
 "cells": [
  {
   "cell_type": "code",
   "execution_count": 2,
   "id": "3ad1a6d5-4223-491e-a75f-5e4f77870d74",
   "metadata": {},
   "outputs": [
    {
     "name": "stdout",
     "output_type": "stream",
     "text": [
      "Dataset shape: (284807, 31)\n",
      "Fraud rate: 0.0017\n",
      "✅ Ready for Week 2!\n"
     ]
    }
   ],
   "source": [
    "import pandas as pd\n",
    "\n",
    "# Load the fraud dataset\n",
    "df = pd.read_csv('creditcard.csv')\n",
    "print(f\"Dataset shape: {df.shape}\")\n",
    "print(f\"Fraud rate: {df['Class'].mean():.4f}\")\n",
    "print(\"✅ Ready for Week 2!\")"
   ]
  },
  {
   "cell_type": "code",
   "execution_count": null,
   "id": "ff7f888d-25d2-41e5-998a-8ba96d900ee0",
   "metadata": {},
   "outputs": [],
   "source": []
  }
 ],
 "metadata": {
  "kernelspec": {
   "display_name": "Python 3 (ipykernel)",
   "language": "python",
   "name": "python3"
  },
  "language_info": {
   "codemirror_mode": {
    "name": "ipython",
    "version": 3
   },
   "file_extension": ".py",
   "mimetype": "text/x-python",
   "name": "python",
   "nbconvert_exporter": "python",
   "pygments_lexer": "ipython3",
   "version": "3.11.13"
  }
 },
 "nbformat": 4,
 "nbformat_minor": 5
}
